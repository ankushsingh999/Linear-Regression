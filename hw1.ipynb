{
 "cells": [
  {
   "cell_type": "code",
   "execution_count": 9,
   "id": "f14f3e84",
   "metadata": {},
   "outputs": [],
   "source": [
    "import numpy as np\n",
    "\n",
    "def linear_regression(X_tr, y_tr):\n",
    "    n,m = X_tr.shape # nxm\n",
    "    #one matrix of size m for the bias\n",
    "    X0 = np.ones((n,1)) # nx1\n",
    "    X = np.hstack((X_tr,X0)) #nx(m+1)\n",
    "    anslin = np.linalg.solve((X).T @ X, (X).T @ y_tr)\n",
    "    l = len(anslin) - 1\n",
    "    b = anslin[len(anslin) - 1]\n",
    "    w = anslin[:l]\n",
    "    return w,b\n",
    "    \n",
    "    # return w, b\n",
    "\n",
    "def train_age_regressor ():\n",
    "    # Load data\n",
    "    X_tr = np.reshape(np.load(\"age_regression_Xtr.npy\"), (-1, 48*48))\n",
    "    ytr = np.load(\"age_regression_ytr.npy\")\n",
    "    X_te = np.reshape(np.load(\"age_regression_Xte.npy\"), (-1, 48*48))\n",
    "    yte = np.load(\"age_regression_yte.npy\")\n",
    "\n",
    "    w,b = linear_regression(X_tr, ytr)\n",
    "   \n",
    "    \n",
    "    yh = X_tr @ w + b\n",
    "    yht = X_te @ w + b\n",
    "    \n",
    "    fmseTr = np.mean(np.square(yh - ytr))/2\n",
    "    print(\"for training data:\",fmseTr)\n",
    "    fmseTe = np.mean(np.square(yht - yte))/2\n",
    "    print(\"for testing data:\",fmseTe)\n",
    "\n",
    "    # Report fMSE cost on the training and testing data (separately)\n",
    "    \n",
    "    \n"
   ]
  },
  {
   "cell_type": "code",
   "execution_count": 10,
   "id": "9af01943",
   "metadata": {},
   "outputs": [
    {
     "name": "stdout",
     "output_type": "stream",
     "text": [
      "for training data: 39.242962989290724\n",
      "for testing data: 206.7964748557791\n"
     ]
    }
   ],
   "source": [
    "train_age_regressor()"
   ]
  },
  {
   "cell_type": "code",
   "execution_count": null,
   "id": "c3fe09f6",
   "metadata": {},
   "outputs": [],
   "source": []
  },
  {
   "cell_type": "code",
   "execution_count": null,
   "id": "5ee14e5c",
   "metadata": {},
   "outputs": [],
   "source": []
  }
 ],
 "metadata": {
  "kernelspec": {
   "display_name": "Python 3 (ipykernel)",
   "language": "python",
   "name": "python3"
  },
  "language_info": {
   "codemirror_mode": {
    "name": "ipython",
    "version": 3
   },
   "file_extension": ".py",
   "mimetype": "text/x-python",
   "name": "python",
   "nbconvert_exporter": "python",
   "pygments_lexer": "ipython3",
   "version": "3.9.7"
  }
 },
 "nbformat": 4,
 "nbformat_minor": 5
}
